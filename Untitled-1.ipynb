{
 "cells": [
  {
   "cell_type": "code",
   "execution_count": null,
   "metadata": {},
   "outputs": [],
   "source": [
    "print('catalogo netflix')\n",
    "print('kobra kai')\n",
    "print('suits')\n",
    "print('thirteen reason why')\n",
    "print('community')\n",
    "print('modern family')\n",
    "print('ratched')\n",
    "print('breaking bad')"
   ]
  }
 ],
 "metadata": {
  "language_info": {
   "name": "python"
  },
  "orig_nbformat": 4
 },
 "nbformat": 4,
 "nbformat_minor": 2
}
